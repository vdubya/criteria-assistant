
{
 "cells": [
  {
   "cell_type": "code",
   "execution_count": null,
   "id": "pip-install",
   "metadata": {},
   "outputs": [],
   "source": [
    "# Install dependencies\n",
    "!pip install requests"
   ]
  },
  {
   "cell_type": "code",
   "execution_count": null,
   "id": "script",
   "metadata": {},
   "outputs": [],
   "source": [
    "import csv\n",
    "import re\n",
    "import requests\n",
    "import json\n",
    "from pathlib import Path\n",
    "from collections import defaultdict\n",
    "from xml.etree import ElementTree as ET\n",
    "\n",
    "# ... (rest of script, see previous final script) ...\n"
   ]
  },
  {
   "cell_type": "code",
   "execution_count": null,
   "id": "run-script",
   "metadata": {}, 
   "outputs": [],
   "source": [
    "# Run final parsing function\n",
    "parse_master_ref_and_add_revref()"
   ]
  }
 ],
 "metadata": {
  "kernelspec": {
   "display_name": "Python 3",
   "language": "python",
   "name": "python3"
  },
  "language_info": {
   "codemirror_mode": { "name": "ipython", "version": 3 },
   "file_extension": ".py",
   "mimetype": "text/x-python",
   "name": "python",
   "nbconvert_exporter": "python",
   "pygments_lexer": "ipython3",
   "version": "3.8"
  }
 },
 "nbformat": 4,
 "nbformat_minor": 5
}
